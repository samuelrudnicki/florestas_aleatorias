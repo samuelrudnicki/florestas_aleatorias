{
  "nbformat": 4,
  "nbformat_minor": 0,
  "metadata": {
    "colab": {
      "name": "random_forests.ipynb",
      "provenance": [],
      "collapsed_sections": [],
      "include_colab_link": true
    },
    "kernelspec": {
      "display_name": "Python 3",
      "name": "python3"
    }
  },
  "cells": [
    {
      "cell_type": "markdown",
      "metadata": {
        "id": "view-in-github",
        "colab_type": "text"
      },
      "source": [
        "<a href=\"https://colab.research.google.com/github/samuelrudnicki/florestas_aleatorias/blob/main/random_forests.ipynb\" target=\"_parent\"><img src=\"https://colab.research.google.com/assets/colab-badge.svg\" alt=\"Open In Colab\"/></a>"
      ]
    },
    {
      "cell_type": "markdown",
      "metadata": {
        "id": "hfcaS-y4eHJO"
      },
      "source": [
        "# INF01017 - Aprendizado de Máquina\n",
        "\n",
        "## Trabalho 1 - Florestas Aleatórias\n",
        "\n",
        "### Eduardo Renani\n",
        "\n",
        "### Samuel Rudnicki"
      ]
    },
    {
      "cell_type": "code",
      "metadata": {
        "id": "lGtoYxBUee2y"
      },
      "source": [
        "import pandas as pd\n",
        "import numpy as np\n",
        "import matplotlib.pyplot as plt\n",
        "import math\n",
        "import random\n",
        "import functools"
      ],
      "execution_count": null,
      "outputs": []
    },
    {
      "cell_type": "code",
      "metadata": {
        "id": "gpPlEBcz2PtE",
        "colab": {
          "base_uri": "https://localhost:8080/",
          "height": 255
        },
        "outputId": "1d349342-817e-4df2-914f-e831af3372a7"
      },
      "source": [
        "house_votes = pd.read_csv('https://drive.google.com/u/0/uc?id=1YfdiqP93ibUjqnpnf7U2sjs6lsj5TlcJ&export=download', sep='\\t')\n",
        "house_votes.head()"
      ],
      "execution_count": null,
      "outputs": [
        {
          "output_type": "execute_result",
          "data": {
            "text/html": [
              "<div>\n",
              "<style scoped>\n",
              "    .dataframe tbody tr th:only-of-type {\n",
              "        vertical-align: middle;\n",
              "    }\n",
              "\n",
              "    .dataframe tbody tr th {\n",
              "        vertical-align: top;\n",
              "    }\n",
              "\n",
              "    .dataframe thead th {\n",
              "        text-align: right;\n",
              "    }\n",
              "</style>\n",
              "<table border=\"1\" class=\"dataframe\">\n",
              "  <thead>\n",
              "    <tr style=\"text-align: right;\">\n",
              "      <th></th>\n",
              "      <th>handicapped-infants</th>\n",
              "      <th>water-project-cost-sharing</th>\n",
              "      <th>adoption-of-the-budget-resolution</th>\n",
              "      <th>physician-fee-freeze</th>\n",
              "      <th>el-salvador-adi</th>\n",
              "      <th>religious-groups-in-schools</th>\n",
              "      <th>anti-satellite-test-ban</th>\n",
              "      <th>aid-to-nicaraguan-contras</th>\n",
              "      <th>mx-missile</th>\n",
              "      <th>immigration</th>\n",
              "      <th>synfuels-corporation-cutback</th>\n",
              "      <th>education-spending</th>\n",
              "      <th>superfund-right-to-sue</th>\n",
              "      <th>crime</th>\n",
              "      <th>duty-free-exports</th>\n",
              "      <th>export-administration-act-south-africa</th>\n",
              "      <th>target</th>\n",
              "    </tr>\n",
              "  </thead>\n",
              "  <tbody>\n",
              "    <tr>\n",
              "      <th>0</th>\n",
              "      <td>1</td>\n",
              "      <td>2</td>\n",
              "      <td>1</td>\n",
              "      <td>2</td>\n",
              "      <td>2</td>\n",
              "      <td>2</td>\n",
              "      <td>1</td>\n",
              "      <td>1</td>\n",
              "      <td>1</td>\n",
              "      <td>2</td>\n",
              "      <td>0</td>\n",
              "      <td>2</td>\n",
              "      <td>2</td>\n",
              "      <td>2</td>\n",
              "      <td>1</td>\n",
              "      <td>2</td>\n",
              "      <td>1</td>\n",
              "    </tr>\n",
              "    <tr>\n",
              "      <th>1</th>\n",
              "      <td>1</td>\n",
              "      <td>2</td>\n",
              "      <td>1</td>\n",
              "      <td>2</td>\n",
              "      <td>2</td>\n",
              "      <td>2</td>\n",
              "      <td>1</td>\n",
              "      <td>1</td>\n",
              "      <td>1</td>\n",
              "      <td>1</td>\n",
              "      <td>1</td>\n",
              "      <td>2</td>\n",
              "      <td>2</td>\n",
              "      <td>2</td>\n",
              "      <td>1</td>\n",
              "      <td>0</td>\n",
              "      <td>1</td>\n",
              "    </tr>\n",
              "    <tr>\n",
              "      <th>2</th>\n",
              "      <td>0</td>\n",
              "      <td>2</td>\n",
              "      <td>2</td>\n",
              "      <td>0</td>\n",
              "      <td>2</td>\n",
              "      <td>2</td>\n",
              "      <td>1</td>\n",
              "      <td>1</td>\n",
              "      <td>1</td>\n",
              "      <td>1</td>\n",
              "      <td>2</td>\n",
              "      <td>1</td>\n",
              "      <td>2</td>\n",
              "      <td>2</td>\n",
              "      <td>1</td>\n",
              "      <td>1</td>\n",
              "      <td>0</td>\n",
              "    </tr>\n",
              "    <tr>\n",
              "      <th>3</th>\n",
              "      <td>1</td>\n",
              "      <td>2</td>\n",
              "      <td>2</td>\n",
              "      <td>1</td>\n",
              "      <td>0</td>\n",
              "      <td>2</td>\n",
              "      <td>1</td>\n",
              "      <td>1</td>\n",
              "      <td>1</td>\n",
              "      <td>1</td>\n",
              "      <td>2</td>\n",
              "      <td>1</td>\n",
              "      <td>2</td>\n",
              "      <td>1</td>\n",
              "      <td>1</td>\n",
              "      <td>2</td>\n",
              "      <td>0</td>\n",
              "    </tr>\n",
              "    <tr>\n",
              "      <th>4</th>\n",
              "      <td>2</td>\n",
              "      <td>2</td>\n",
              "      <td>2</td>\n",
              "      <td>1</td>\n",
              "      <td>2</td>\n",
              "      <td>2</td>\n",
              "      <td>1</td>\n",
              "      <td>1</td>\n",
              "      <td>1</td>\n",
              "      <td>1</td>\n",
              "      <td>2</td>\n",
              "      <td>0</td>\n",
              "      <td>2</td>\n",
              "      <td>2</td>\n",
              "      <td>2</td>\n",
              "      <td>2</td>\n",
              "      <td>0</td>\n",
              "    </tr>\n",
              "  </tbody>\n",
              "</table>\n",
              "</div>"
            ],
            "text/plain": [
              "   handicapped-infants  ...  target\n",
              "0                    1  ...       1\n",
              "1                    1  ...       1\n",
              "2                    0  ...       0\n",
              "3                    1  ...       0\n",
              "4                    2  ...       0\n",
              "\n",
              "[5 rows x 17 columns]"
            ]
          },
          "metadata": {
            "tags": []
          },
          "execution_count": 6
        }
      ]
    },
    {
      "cell_type": "code",
      "metadata": {
        "id": "IqNMpwsb3NDJ",
        "colab": {
          "base_uri": "https://localhost:8080/",
          "height": 204
        },
        "outputId": "a7a03c82-5c7b-4621-c883-9d24e23e80e4"
      },
      "source": [
        "wine_recognition = pd.read_csv('https://drive.google.com/u/0/uc?id=1qN2gc5MtD8_tLNV2K0zztGeNUEIAzBXK&export=download', sep='\\t')\n",
        "wine_recognition.head()"
      ],
      "execution_count": null,
      "outputs": [
        {
          "output_type": "execute_result",
          "data": {
            "text/html": [
              "<div>\n",
              "<style scoped>\n",
              "    .dataframe tbody tr th:only-of-type {\n",
              "        vertical-align: middle;\n",
              "    }\n",
              "\n",
              "    .dataframe tbody tr th {\n",
              "        vertical-align: top;\n",
              "    }\n",
              "\n",
              "    .dataframe thead th {\n",
              "        text-align: right;\n",
              "    }\n",
              "</style>\n",
              "<table border=\"1\" class=\"dataframe\">\n",
              "  <thead>\n",
              "    <tr style=\"text-align: right;\">\n",
              "      <th></th>\n",
              "      <th>target</th>\n",
              "      <th>1</th>\n",
              "      <th>2</th>\n",
              "      <th>3</th>\n",
              "      <th>4</th>\n",
              "      <th>5</th>\n",
              "      <th>6</th>\n",
              "      <th>7</th>\n",
              "      <th>8</th>\n",
              "      <th>9</th>\n",
              "      <th>10</th>\n",
              "      <th>11</th>\n",
              "      <th>12</th>\n",
              "      <th>13</th>\n",
              "    </tr>\n",
              "  </thead>\n",
              "  <tbody>\n",
              "    <tr>\n",
              "      <th>0</th>\n",
              "      <td>1</td>\n",
              "      <td>14.23</td>\n",
              "      <td>1.71</td>\n",
              "      <td>2.43</td>\n",
              "      <td>15.6</td>\n",
              "      <td>127</td>\n",
              "      <td>2.80</td>\n",
              "      <td>3.06</td>\n",
              "      <td>0.28</td>\n",
              "      <td>2.29</td>\n",
              "      <td>5.64</td>\n",
              "      <td>1.04</td>\n",
              "      <td>3.92</td>\n",
              "      <td>1065</td>\n",
              "    </tr>\n",
              "    <tr>\n",
              "      <th>1</th>\n",
              "      <td>1</td>\n",
              "      <td>13.20</td>\n",
              "      <td>1.78</td>\n",
              "      <td>2.14</td>\n",
              "      <td>11.2</td>\n",
              "      <td>100</td>\n",
              "      <td>2.65</td>\n",
              "      <td>2.76</td>\n",
              "      <td>0.26</td>\n",
              "      <td>1.28</td>\n",
              "      <td>4.38</td>\n",
              "      <td>1.05</td>\n",
              "      <td>3.40</td>\n",
              "      <td>1050</td>\n",
              "    </tr>\n",
              "    <tr>\n",
              "      <th>2</th>\n",
              "      <td>1</td>\n",
              "      <td>13.16</td>\n",
              "      <td>2.36</td>\n",
              "      <td>2.67</td>\n",
              "      <td>18.6</td>\n",
              "      <td>101</td>\n",
              "      <td>2.80</td>\n",
              "      <td>3.24</td>\n",
              "      <td>0.30</td>\n",
              "      <td>2.81</td>\n",
              "      <td>5.68</td>\n",
              "      <td>1.03</td>\n",
              "      <td>3.17</td>\n",
              "      <td>1185</td>\n",
              "    </tr>\n",
              "    <tr>\n",
              "      <th>3</th>\n",
              "      <td>1</td>\n",
              "      <td>14.37</td>\n",
              "      <td>1.95</td>\n",
              "      <td>2.50</td>\n",
              "      <td>16.8</td>\n",
              "      <td>113</td>\n",
              "      <td>3.85</td>\n",
              "      <td>3.49</td>\n",
              "      <td>0.24</td>\n",
              "      <td>2.18</td>\n",
              "      <td>7.80</td>\n",
              "      <td>0.86</td>\n",
              "      <td>3.45</td>\n",
              "      <td>1480</td>\n",
              "    </tr>\n",
              "    <tr>\n",
              "      <th>4</th>\n",
              "      <td>1</td>\n",
              "      <td>13.24</td>\n",
              "      <td>2.59</td>\n",
              "      <td>2.87</td>\n",
              "      <td>21.0</td>\n",
              "      <td>118</td>\n",
              "      <td>2.80</td>\n",
              "      <td>2.69</td>\n",
              "      <td>0.39</td>\n",
              "      <td>1.82</td>\n",
              "      <td>4.32</td>\n",
              "      <td>1.04</td>\n",
              "      <td>2.93</td>\n",
              "      <td>735</td>\n",
              "    </tr>\n",
              "  </tbody>\n",
              "</table>\n",
              "</div>"
            ],
            "text/plain": [
              "   target      1     2     3     4    5  ...     8     9    10    11    12    13\n",
              "0       1  14.23  1.71  2.43  15.6  127  ...  0.28  2.29  5.64  1.04  3.92  1065\n",
              "1       1  13.20  1.78  2.14  11.2  100  ...  0.26  1.28  4.38  1.05  3.40  1050\n",
              "2       1  13.16  2.36  2.67  18.6  101  ...  0.30  2.81  5.68  1.03  3.17  1185\n",
              "3       1  14.37  1.95  2.50  16.8  113  ...  0.24  2.18  7.80  0.86  3.45  1480\n",
              "4       1  13.24  2.59  2.87  21.0  118  ...  0.39  1.82  4.32  1.04  2.93   735\n",
              "\n",
              "[5 rows x 14 columns]"
            ]
          },
          "metadata": {
            "tags": []
          },
          "execution_count": 7
        }
      ]
    },
    {
      "cell_type": "code",
      "metadata": {
        "id": "Vw4-KK2_eoY6",
        "colab": {
          "base_uri": "https://localhost:8080/",
          "height": 483
        },
        "outputId": "7c06256e-3d16-4b40-a934-1e23c8feb263"
      },
      "source": [
        "url = 'https://raw.githubusercontent.com/samuelrudnicki/random_forests/master/dadosBenchmark_validacaoAlgoritmoAD.csv'\n",
        "\n",
        "validacao = pd.read_csv(url, sep=';')\n",
        "display(validacao)\n"
      ],
      "execution_count": null,
      "outputs": [
        {
          "output_type": "display_data",
          "data": {
            "text/html": [
              "<div>\n",
              "<style scoped>\n",
              "    .dataframe tbody tr th:only-of-type {\n",
              "        vertical-align: middle;\n",
              "    }\n",
              "\n",
              "    .dataframe tbody tr th {\n",
              "        vertical-align: top;\n",
              "    }\n",
              "\n",
              "    .dataframe thead th {\n",
              "        text-align: right;\n",
              "    }\n",
              "</style>\n",
              "<table border=\"1\" class=\"dataframe\">\n",
              "  <thead>\n",
              "    <tr style=\"text-align: right;\">\n",
              "      <th></th>\n",
              "      <th>Tempo</th>\n",
              "      <th>Temperatura</th>\n",
              "      <th>Umidade</th>\n",
              "      <th>Ventoso</th>\n",
              "      <th>Joga</th>\n",
              "    </tr>\n",
              "  </thead>\n",
              "  <tbody>\n",
              "    <tr>\n",
              "      <th>0</th>\n",
              "      <td>Ensolarado</td>\n",
              "      <td>Quente</td>\n",
              "      <td>Alta</td>\n",
              "      <td>Falso</td>\n",
              "      <td>Nao</td>\n",
              "    </tr>\n",
              "    <tr>\n",
              "      <th>1</th>\n",
              "      <td>Ensolarado</td>\n",
              "      <td>Quente</td>\n",
              "      <td>Alta</td>\n",
              "      <td>Verdadeiro</td>\n",
              "      <td>Nao</td>\n",
              "    </tr>\n",
              "    <tr>\n",
              "      <th>2</th>\n",
              "      <td>Nublado</td>\n",
              "      <td>Quente</td>\n",
              "      <td>Alta</td>\n",
              "      <td>Falso</td>\n",
              "      <td>Sim</td>\n",
              "    </tr>\n",
              "    <tr>\n",
              "      <th>3</th>\n",
              "      <td>Chuvoso</td>\n",
              "      <td>Amena</td>\n",
              "      <td>Alta</td>\n",
              "      <td>Falso</td>\n",
              "      <td>Sim</td>\n",
              "    </tr>\n",
              "    <tr>\n",
              "      <th>4</th>\n",
              "      <td>Chuvoso</td>\n",
              "      <td>Fria</td>\n",
              "      <td>Normal</td>\n",
              "      <td>Falso</td>\n",
              "      <td>Sim</td>\n",
              "    </tr>\n",
              "    <tr>\n",
              "      <th>5</th>\n",
              "      <td>Chuvoso</td>\n",
              "      <td>Fria</td>\n",
              "      <td>Normal</td>\n",
              "      <td>Verdadeiro</td>\n",
              "      <td>Nao</td>\n",
              "    </tr>\n",
              "    <tr>\n",
              "      <th>6</th>\n",
              "      <td>Nublado</td>\n",
              "      <td>Fria</td>\n",
              "      <td>Normal</td>\n",
              "      <td>Verdadeiro</td>\n",
              "      <td>Sim</td>\n",
              "    </tr>\n",
              "    <tr>\n",
              "      <th>7</th>\n",
              "      <td>Ensolarado</td>\n",
              "      <td>Amena</td>\n",
              "      <td>Alta</td>\n",
              "      <td>Falso</td>\n",
              "      <td>Nao</td>\n",
              "    </tr>\n",
              "    <tr>\n",
              "      <th>8</th>\n",
              "      <td>Ensolarado</td>\n",
              "      <td>Fria</td>\n",
              "      <td>Normal</td>\n",
              "      <td>Falso</td>\n",
              "      <td>Sim</td>\n",
              "    </tr>\n",
              "    <tr>\n",
              "      <th>9</th>\n",
              "      <td>Chuvoso</td>\n",
              "      <td>Amena</td>\n",
              "      <td>Normal</td>\n",
              "      <td>Falso</td>\n",
              "      <td>Sim</td>\n",
              "    </tr>\n",
              "    <tr>\n",
              "      <th>10</th>\n",
              "      <td>Ensolarado</td>\n",
              "      <td>Amena</td>\n",
              "      <td>Normal</td>\n",
              "      <td>Verdadeiro</td>\n",
              "      <td>Sim</td>\n",
              "    </tr>\n",
              "    <tr>\n",
              "      <th>11</th>\n",
              "      <td>Nublado</td>\n",
              "      <td>Amena</td>\n",
              "      <td>Alta</td>\n",
              "      <td>Verdadeiro</td>\n",
              "      <td>Sim</td>\n",
              "    </tr>\n",
              "    <tr>\n",
              "      <th>12</th>\n",
              "      <td>Nublado</td>\n",
              "      <td>Quente</td>\n",
              "      <td>Normal</td>\n",
              "      <td>Falso</td>\n",
              "      <td>Sim</td>\n",
              "    </tr>\n",
              "    <tr>\n",
              "      <th>13</th>\n",
              "      <td>Chuvoso</td>\n",
              "      <td>Amena</td>\n",
              "      <td>Alta</td>\n",
              "      <td>Verdadeiro</td>\n",
              "      <td>Nao</td>\n",
              "    </tr>\n",
              "  </tbody>\n",
              "</table>\n",
              "</div>"
            ],
            "text/plain": [
              "         Tempo Temperatura Umidade     Ventoso Joga\n",
              "0   Ensolarado      Quente    Alta       Falso  Nao\n",
              "1   Ensolarado      Quente    Alta  Verdadeiro  Nao\n",
              "2      Nublado      Quente    Alta       Falso  Sim\n",
              "3      Chuvoso       Amena    Alta       Falso  Sim\n",
              "4      Chuvoso        Fria  Normal       Falso  Sim\n",
              "5      Chuvoso        Fria  Normal  Verdadeiro  Nao\n",
              "6      Nublado        Fria  Normal  Verdadeiro  Sim\n",
              "7   Ensolarado       Amena    Alta       Falso  Nao\n",
              "8   Ensolarado        Fria  Normal       Falso  Sim\n",
              "9      Chuvoso       Amena  Normal       Falso  Sim\n",
              "10  Ensolarado       Amena  Normal  Verdadeiro  Sim\n",
              "11     Nublado       Amena    Alta  Verdadeiro  Sim\n",
              "12     Nublado      Quente  Normal       Falso  Sim\n",
              "13     Chuvoso       Amena    Alta  Verdadeiro  Nao"
            ]
          },
          "metadata": {
            "tags": []
          }
        }
      ]
    },
    {
      "cell_type": "markdown",
      "metadata": {
        "id": "2dc8rClRfNRn"
      },
      "source": [
        "## 1. O algoritmo de indução de uma árvore de decisão, usando como critério de seleção de atributos para divisão de nós o Ganho de Informação (baseado no conceito de entropia), como visto na disciplina, tratando tanto atributos categóricos quanto numéricos;"
      ]
    },
    {
      "cell_type": "code",
      "metadata": {
        "id": "zfu5oYcwfZU5"
      },
      "source": [
        "#atributos alvo\n",
        "target_attribute = 'target'\n",
        "\n",
        "#teste\n",
        "validacao_target = 'Joga'\n",
        "\n",
        "wine_recognition_Y = wine_recognition[target_attribute]\n",
        "house_votes_Y = house_votes[target_attribute]\n",
        "validacao_Y = validacao[validacao_target]\n",
        "\n",
        "#atributos preditivos\n",
        "house_votes_predictive_attributes = list(house_votes.columns)\n",
        "house_votes_predictive_attributes.remove(target_attribute)\n",
        "wine_recognition_predictive_attributes = list(wine_recognition.columns)\n",
        "wine_recognition_predictive_attributes.remove(target_attribute)\n",
        "validacao_predictive_attributes = list(validacao.columns)\n",
        "validacao_predictive_attributes.remove(validacao_target)\n",
        "\n",
        "house_votes_X = house_votes[house_votes_predictive_attributes]\n",
        "wine_recognition_X = wine_recognition[wine_recognition_predictive_attributes]\n",
        "validacao_X = validacao[validacao_predictive_attributes]\n",
        "\n",
        "#X --> dataframe com os atributos preditivos\n",
        "#RETORNA --> um dicionario com todos os atributos preditivos e seus possiveis valores\n",
        "def predictive_feature_values(X):\n",
        "  predictive_features_values = {}\n",
        "  for value in X:\n",
        "    predictive_features_values[value] = list(X[value].unique())\n",
        "  return predictive_features_values\n",
        "\n",
        "\n",
        "\n"
      ],
      "execution_count": null,
      "outputs": []
    },
    {
      "cell_type": "markdown",
      "metadata": {
        "id": "Y9BxY7vJKziF"
      },
      "source": [
        "### Ganho de informação\n",
        "\n"
      ]
    },
    {
      "cell_type": "code",
      "metadata": {
        "id": "FvxgJzB_hx2O"
      },
      "source": [
        "###Pre-processamento\n",
        "###Dados numéricos serão categorizados pela sua média. 1 if(df[col].mean() > df[i]) else 0\n",
        "#data --> dataframe de dados\n",
        "#numerical_features --> lista de atributos numéricos\n",
        "def numerical_encoder(data, numerical_features):\n",
        "  \n",
        "  #copia o conjunto de dados para não modificar os dados originais\n",
        "  label_data = data.copy()\n",
        "\n",
        "  #atribui um valor para cada valor de um atributo numerico conforme sua relação com a media de todos os valores do atributo\n",
        "  for col in numerical_features:\n",
        "    label_data[col] = data[col] > data[col].mean()\n",
        "    label_data[col] = label_data[col].map({False: '<{}'.format(data[col].mean()), True: '>{}'.format(data[col].mean())})\n",
        "\n",
        "  return label_data\n",
        "\n",
        "#entropia\n",
        "#calcula a homogeneadade de uma amostra de dados\n",
        "#slide 50\n",
        "#d --> coluna do dataframe em análise\n",
        "#data --> dataframe\n",
        "#target_attribute --> nome do atributo alvo\n",
        "def info(d, data, target_attribute):\n",
        "  result = 0.0\n",
        "  values = d.unique()\n",
        "  outcomes = data[target_attribute].unique()\n",
        "\n",
        "  if d.name == target_attribute:\n",
        "    for value in values:        \n",
        "      result += -((d[d == value].count()/d.count())*math.log2(d[d == value].count()/d.count()))\n",
        "  else:  \n",
        "    for value in values:\n",
        "      subtable = data[data[d.name] == value]\n",
        "      for outcome in outcomes:\n",
        "        result += -((subtable[target_attribute]==outcome).sum()/len(subtable))*math.log2((subtable[target_attribute]==outcome).sum()/len(subtable)) if (subtable[target_attribute]==outcome).sum() > 0 else 0\n",
        "\n",
        "  return result\n",
        "\n",
        "#slide 53\n",
        "#informação por atributo\n",
        "#d --> coluna do dataframe em análise\n",
        "#data --> dataframe\n",
        "#target_attribute --> nome do atributo alvo\n",
        "#RETORNA --> \n",
        "def infoA(d, data, target_attribute):\n",
        "  result = 0.0\n",
        "  values = d.unique()\n",
        "  for value in values:\n",
        "    result += (d[d == value]).count()/d.count() * info(d[d == value], data, target_attribute)\n",
        "  return result\n",
        "\n",
        "#slide 54\n",
        "#Ganho de informação\n",
        "#attribute --> atributo preditivo avaliado\n",
        "#data --> dataframe\n",
        "#target_attribute --> atributo alvo\n",
        "#RETORNA --> ganho do atributo\n",
        "def gain(attribute, data, target_attribute):\n",
        "  return info(data[target_attribute], data, target_attribute) - infoA(data[attribute], data, target_attribute)\n",
        "\n",
        "#atributo com maior ganho\n",
        "#attribute --> atributo preditivo avaliado\n",
        "#data --> dataframe\n",
        "#target_attribute --> atributo alvo\n",
        "#RETORNA --> [atributo com maior ganho, ganho do atributo]\n",
        "def biggest_gain(attributes, data, target_attribute):\n",
        "  gains = {}\n",
        "  for attribute in attributes:\n",
        "    gains[attribute] = gain(attribute, data, target_attribute)\n",
        "  biggest_gain_attribute = sorted(gains, key=gains.get, reverse=True)[0]\n",
        "  return [biggest_gain_attribute,gains[biggest_gain_attribute]]\n"
      ],
      "execution_count": null,
      "outputs": []
    },
    {
      "cell_type": "markdown",
      "metadata": {
        "id": "MUgT9bcXLPCo"
      },
      "source": [
        "### Construção de árvore de decisão"
      ]
    },
    {
      "cell_type": "code",
      "metadata": {
        "id": "1sNn7mXGTPrX"
      },
      "source": [
        "# estrutura da arvore de decisao\n",
        "class Node:\n",
        "  def __init__(self, data=None, attribute=None, label=None, gain=None):\n",
        "    self.children = {} #dicionario de valores possiveis do atributos associados aos proximos nos {'valor1': Node, ..}\n",
        "    self.attribute = attribute #atributo associado ao nó\n",
        "    self.label = label #valor do nó - se folha\n",
        "    self.data = data #dataframe associado a decisão\n",
        "    self.gain = gain #ganho de informação do atributo\n",
        "\n",
        "  def set_data(self, data):\n",
        "    self.data = data\n",
        "\n",
        "  def get_data(self):\n",
        "    return self.data\n",
        "\n",
        "  def set_label(self, label):\n",
        "    self.label = label\n",
        "\n",
        "  def get_label(self):\n",
        "    return self.label\n",
        "\n",
        "  def add_child(self, value, node):\n",
        "    self.children[value]=node;\n",
        "\n",
        "  def get_children(self):\n",
        "    return self.children\n",
        "\n",
        "  def set_attribute(self, attribute):\n",
        "    self.attribute = attribute\n",
        "\n",
        "  def get_attribute(self):\n",
        "    return self.attribute\n",
        "\n",
        "  def set_gain(self, gain):\n",
        "    self.gain = gain\n",
        "\n",
        "  def get_gain(self):\n",
        "    return self.gain\n",
        "\n",
        "  def has_children(self):\n",
        "    return len(self.children) != 0\n",
        "\n",
        "  def print_tree(self,level=0):\n",
        "    print(level*'  ',self.get_attribute(),self.get_gain()) if self.get_attribute() != None else print(level*'  ','LABEL:',self.get_label())\n",
        "    for child in self.get_children():\n",
        "      print(level*'  ','-',child)\n",
        "      self.get_children()[child].print_tree(level+1)\n",
        "\n",
        "#slide 43\n",
        "#algoritmo de criação de arvore de decisao\n",
        "#data --> dataframe\n",
        "#features --> lista de atributos preditivos\n",
        "#feature_values --> dicionario dos atributos preditivos relacioados a seus possiveis valores\n",
        "#target_attribute --> atributo alvo\n",
        "#RETORNA --> nó raiz da arvore de decisao\n",
        "def decision_tree(data, features, feature_values, target_attribute):\n",
        "  \n",
        "  #crie um nó\n",
        "  N = Node()\n",
        "  #se todos os atributos preditivos possuem a mesma classe y, retorna N como uma folha\n",
        "  #rotulado com y\n",
        "  if (len(data[target_attribute].unique()) == 1):\n",
        "    N.set_label(data.drop(features, axis=1)[target_attribute].unique()[0])\n",
        "    N.set_data(data)\n",
        "    return N\n",
        "  #se L é vaziam retorna N como um no folha rotulado com a classe y mais frequente\n",
        "  elif (len(features)==0):\n",
        "    N.set_label(data.mode()[target_attribute][0])\n",
        "    N.set_data(data)\n",
        "    return N\n",
        "  else:\n",
        "    #A recebe o atributo que apresenta o melhor criterio de decisao\n",
        "    A, A_gain = biggest_gain(features, data, target_attribute) #seleciona o atributo com maior ganho\n",
        "    #se uma particao resultante é vazia, retorna N como um no folha rotulado com a classe y mais frequente\n",
        "    if (set(data[A].unique()) != set(feature_values[A])):\n",
        "      N.set_label(data.mode()[target_attribute][0])\n",
        "      N.set_data(data)\n",
        "      return N\n",
        "    else:    \n",
        "      N.set_attribute(A) #atribui o atributo ao nó\n",
        "      N.set_gain(A_gain) #atribui ganho do atributo ao nó\n",
        "      N.set_data(data)\n",
        "      new_attributes = [x for x in features if x != A] #retira o atributo usado da lista de atributos\n",
        "      for value in data[A].unique():\n",
        "        data_subset = data[data[A] == value]\n",
        "        N.add_child(value,decision_tree(data=data_subset.drop(A, axis=1), features=new_attributes,feature_values=feature_values ,target_attribute=target_attribute))\n",
        "    return N"
      ],
      "execution_count": null,
      "outputs": []
    },
    {
      "cell_type": "markdown",
      "metadata": {
        "id": "7B1PrHlISzLD"
      },
      "source": [
        "#### Análise de corretude"
      ]
    },
    {
      "cell_type": "code",
      "metadata": {
        "id": "ZbgX7dT5SyIS",
        "colab": {
          "base_uri": "https://localhost:8080/",
          "height": 290
        },
        "outputId": "ee7acc1a-70ba-4ad8-f3c1-f85df6d16fc3"
      },
      "source": [
        "validacao_root = decision_tree(validacao, validacao_predictive_attributes,predictive_feature_values(validacao) ,validacao_target)\n",
        "display('[*] VALIDACAO [*]')\n",
        "validacao_root.print_tree()"
      ],
      "execution_count": null,
      "outputs": [
        {
          "output_type": "display_data",
          "data": {
            "application/vnd.google.colaboratory.intrinsic+json": {
              "type": "string"
            },
            "text/plain": [
              "'[*] VALIDACAO [*]'"
            ]
          },
          "metadata": {
            "tags": []
          }
        },
        {
          "output_type": "stream",
          "text": [
            " Tempo 0.2467498197744391\n",
            " - Ensolarado\n",
            "   Umidade 0.9709505944546686\n",
            "   - Alta\n",
            "     LABEL: Nao\n",
            "   - Normal\n",
            "     LABEL: Sim\n",
            " - Nublado\n",
            "   LABEL: Sim\n",
            " - Chuvoso\n",
            "   Ventoso 0.9709505944546686\n",
            "   - Falso\n",
            "     LABEL: Sim\n",
            "   - Verdadeiro\n",
            "     LABEL: Nao\n"
          ],
          "name": "stdout"
        }
      ]
    },
    {
      "cell_type": "markdown",
      "metadata": {
        "id": "1Lpb0rrthq8R"
      },
      "source": [
        "## 2. Uma função para percorrer a árvore de decisão treinada e realizar a classificação de uma nova instância (do conjunto de teste);"
      ]
    },
    {
      "cell_type": "code",
      "metadata": {
        "id": "z6RXIqdNhzlC",
        "colab": {
          "base_uri": "https://localhost:8080/",
          "height": 389
        },
        "outputId": "14f2f474-75ab-49b8-bea9-fdb067eb4de0"
      },
      "source": [
        "\n",
        "#\n",
        "def classify_instance(instance, decision_tree_root):\n",
        "\n",
        "  decision_tree_node = decision_tree_root\n",
        "\n",
        "  #percorre a arvore enquanto o nó em análise tiver filhos\n",
        "  while(decision_tree_node.has_children()):\n",
        "    node_attributes=list(instance[decision_tree_node.get_attribute()])\n",
        "\n",
        "    #checa se atributo é numérico\n",
        "    if(isinstance(node_attributes[0], float)):\n",
        "      #categoriza o valor entre maior ou menor que a média\n",
        "      column_mean = list(decision_tree_node.get_children().keys())[0]\n",
        "      if(node_attributes[0] > float(column_mean[1:])):\n",
        "        node_attributes[0] = '>{}'.format(column_mean[1:])\n",
        "      else:\n",
        "        node_attributes[0] = '<{}'.format(column_mean[1:])\n",
        "    #avança para o proximo nó conforme o valor do atributo\n",
        "    decision_tree_node = decision_tree_node.get_children()[node_attributes[0]]\n",
        "    \n",
        "  return decision_tree_node.get_label()\n",
        "\n",
        "validacao_root.print_tree()\n",
        "display(validacao[-1:])\n",
        "display('CLASSIFICACAO:',classify_instance(validacao[-1:],validacao_root))\n",
        "display('OBS: A INSTANCIA UTILIZADA PARA TESTAR O ALGORITMO DE CLASSIFICACAO FAZ PARTE DO CONJUNTO DE TREINAMENTO')\n",
        "\n"
      ],
      "execution_count": null,
      "outputs": [
        {
          "output_type": "stream",
          "text": [
            " Tempo 0.2467498197744391\n",
            " - Ensolarado\n",
            "   Umidade 0.9709505944546686\n",
            "   - Alta\n",
            "     LABEL: Nao\n",
            "   - Normal\n",
            "     LABEL: Sim\n",
            " - Nublado\n",
            "   LABEL: Sim\n",
            " - Chuvoso\n",
            "   Ventoso 0.9709505944546686\n",
            "   - Falso\n",
            "     LABEL: Sim\n",
            "   - Verdadeiro\n",
            "     LABEL: Nao\n"
          ],
          "name": "stdout"
        },
        {
          "output_type": "display_data",
          "data": {
            "text/html": [
              "<div>\n",
              "<style scoped>\n",
              "    .dataframe tbody tr th:only-of-type {\n",
              "        vertical-align: middle;\n",
              "    }\n",
              "\n",
              "    .dataframe tbody tr th {\n",
              "        vertical-align: top;\n",
              "    }\n",
              "\n",
              "    .dataframe thead th {\n",
              "        text-align: right;\n",
              "    }\n",
              "</style>\n",
              "<table border=\"1\" class=\"dataframe\">\n",
              "  <thead>\n",
              "    <tr style=\"text-align: right;\">\n",
              "      <th></th>\n",
              "      <th>Tempo</th>\n",
              "      <th>Temperatura</th>\n",
              "      <th>Umidade</th>\n",
              "      <th>Ventoso</th>\n",
              "      <th>Joga</th>\n",
              "    </tr>\n",
              "  </thead>\n",
              "  <tbody>\n",
              "    <tr>\n",
              "      <th>13</th>\n",
              "      <td>Chuvoso</td>\n",
              "      <td>Amena</td>\n",
              "      <td>Alta</td>\n",
              "      <td>Verdadeiro</td>\n",
              "      <td>Nao</td>\n",
              "    </tr>\n",
              "  </tbody>\n",
              "</table>\n",
              "</div>"
            ],
            "text/plain": [
              "      Tempo Temperatura Umidade     Ventoso Joga\n",
              "13  Chuvoso       Amena    Alta  Verdadeiro  Nao"
            ]
          },
          "metadata": {
            "tags": []
          }
        },
        {
          "output_type": "display_data",
          "data": {
            "application/vnd.google.colaboratory.intrinsic+json": {
              "type": "string"
            },
            "text/plain": [
              "'CLASSIFICACAO:'"
            ]
          },
          "metadata": {
            "tags": []
          }
        },
        {
          "output_type": "display_data",
          "data": {
            "application/vnd.google.colaboratory.intrinsic+json": {
              "type": "string"
            },
            "text/plain": [
              "'Nao'"
            ]
          },
          "metadata": {
            "tags": []
          }
        },
        {
          "output_type": "display_data",
          "data": {
            "application/vnd.google.colaboratory.intrinsic+json": {
              "type": "string"
            },
            "text/plain": [
              "'OBS: A INSTANCIA UTILIZADA PARA TESTAR O ALGORITMO DE CLASSIFICACAO FAZ PARTE DO CONJUNTO DE TREINAMENTO'"
            ]
          },
          "metadata": {
            "tags": []
          }
        }
      ]
    },
    {
      "cell_type": "markdown",
      "metadata": {
        "id": "XYGMNWxprIBh"
      },
      "source": [
        "## 3. O mecanismo de bootstrap (amostragem com reposição) para geração de subconjuntos a partir do conjunto de dados de treinamento originais. Cada bootstrap será utilizado para o treinamento de uma árvore no aprendizado ensemble;"
      ]
    },
    {
      "cell_type": "code",
      "metadata": {
        "id": "9hE5vlZduz6C"
      },
      "source": [
        "#aula 7 slide 16\n",
        "#data --> dataframe\n",
        "#n_subsets --> numero de subconjuntos com amostra por reposição\n",
        "#RETORNA --> (training_set, test_set)\n",
        "def bootstrap(data, n_subsets):\n",
        "  bootstrap_test_set = []\n",
        "  bootstrap_training_set = []\n",
        "  for i in range(n_subsets):\n",
        "    bootstrap_training_set.append(data.loc[np.random.randint(len(data), size=len(data))])\n",
        "    bootstrap_test_set.append(pd.concat([bootstrap_training_set[-1],data]).drop_duplicates(keep=False))\n",
        "\n",
        "  return (bootstrap_training_set, bootstrap_test_set)\n"
      ],
      "execution_count": null,
      "outputs": []
    },
    {
      "cell_type": "markdown",
      "metadata": {
        "id": "qV_T6jbI2Vxd"
      },
      "source": [
        "## 4. O mecanismo de amostragem de m atributos a cada divisão de nó, a partir dos quais será selecionado o melhor atributo de acordo com o critério de Ganho de Informação;"
      ]
    },
    {
      "cell_type": "code",
      "metadata": {
        "id": "YKqQ25Vx7ZtR"
      },
      "source": [
        "#features --> atributos preditivos\n",
        "#RETORNA --> lista com  m atributos aleatorios, sendo m=sqrt(n_atributos)\n",
        "def random_features(features):\n",
        "  m = math.sqrt(len(features))\n",
        "  m = math.floor(m)\n",
        "  return random.sample(features, k=m)"
      ],
      "execution_count": null,
      "outputs": []
    },
    {
      "cell_type": "code",
      "metadata": {
        "id": "ntYng6IsLTkm"
      },
      "source": [
        "#algoritmo de criação de arvore de decisao com mecanismo de amostragem por divisão de nó\n",
        "#data --> dataframe\n",
        "#features --> lista de atributos preditivos\n",
        "#feature_values --> dicionario dos atributos preditivos relacioados a seus possiveis valores\n",
        "#target_attribute --> atributo alvo\n",
        "#RETORNA --> nó raiz da arvore de decisao\n",
        "def decision_tree_random_features(data, features, feature_values, target_attribute):\n",
        "  #crie um nó\n",
        "  N = Node()\n",
        "  #se todos as instancias possuem a mesma classe y, retorna N como uma folha\n",
        "  #rotulado com y\n",
        "  if (len(data[target_attribute].unique()) == 1):\n",
        "    N.set_label(data.drop(features, axis=1)[target_attribute].unique()[0])\n",
        "    N.set_data(data)\n",
        "    return N\n",
        "  #se L é vaziam retorna N como um no folha rotulado com a classe y mais frequente\n",
        "  elif (len(features)==0):\n",
        "    N.set_label(data.mode()[target_attribute][0])\n",
        "    N.set_data(data)\n",
        "    return N\n",
        "  else:\n",
        "    #A recebe o atributo que apresenta o melhor criterio de decisao\n",
        "    ####\n",
        "    random_features_selection = random_features(features) #seleciona sqrt(numero de atributos disponiveis) atributos aleatorios entre os disponiveis\n",
        "    A, A_gain = biggest_gain(random_features_selection, data, target_attribute) #seleciona o atributo com maior ganho    \n",
        "    ####\n",
        "    #se uma particao resultante é vazia, retorna N como um no folha rotulado com a classe y mais frequente\n",
        "    if (set(data[A].unique()) != set(feature_values[A])):\n",
        "        N.set_label(data.mode()[target_attribute][0])\n",
        "        N.set_data(data)\n",
        "        return N\n",
        "    N.set_attribute(A) #atribui o atributo ao nó\n",
        "    N.set_gain(A_gain)\n",
        "    N.set_data(data)\n",
        "    new_attributes = [x for x in features if x != A] #retira o atributo usado da lista de atributos\n",
        "    for value in data[A].unique():\n",
        "      data_subset = data[data[A] == value]\n",
        "      N.add_child(value,decision_tree_random_features(data_subset.drop(A, axis=1), new_attributes, feature_values, target_attribute))\n",
        "    return N"
      ],
      "execution_count": null,
      "outputs": []
    },
    {
      "cell_type": "markdown",
      "metadata": {
        "id": "Q8G_WJeN62OB"
      },
      "source": [
        "## 5. O treinamento de um ensemble de árvores de decisão, adotando os mecanismos de bootstrap e seleção de atributos com amostragem, como mencionados acima;"
      ]
    },
    {
      "cell_type": "code",
      "metadata": {
        "id": "mlJ_rre3FVRV"
      },
      "source": [
        "#data --> dataframe\n",
        "#r --> número de subconjuntos com amostra por reposição (bootstrap)\n",
        "#feature_list --> lista de atributos preditivos\n",
        "#feature_values --> dicionario dos atributos preditivos relacioados a seus possiveis valores\n",
        "#target_attribute --> atributo alvo\n",
        "#RETORNA --> lista de arvores de decisao treinadas com cada subconjunto de dados gerado por bootstrap\n",
        "def ensemble_decision_trees(data, r, features_list, features_values, target_attribute):\n",
        "  #bootstrapping r conjuntos de dados\n",
        "  (training_sets, test_sets) = bootstrap(data, r)\n",
        "\n",
        "  #treinando arvores de decisao com cada bootstrap com a seleção de atributos\n",
        "  decision_trees = []\n",
        "  for training_set in training_sets:\n",
        "    decision_tree = decision_tree_random_features(data=training_set, features=features_list, feature_values=features_values, target_attribute=target_attribute)\n",
        "    decision_trees.append(decision_tree)\n",
        "  return decision_trees\n",
        "\n"
      ],
      "execution_count": null,
      "outputs": []
    },
    {
      "cell_type": "markdown",
      "metadata": {
        "id": "WS_Pji6q66oO"
      },
      "source": [
        "## 5. O mecanismo de votação majoritária entre as múltiplas árvores de decisão no ensemble, para classificação de novas instâncias utilizando o modelo de Florestas Aleatórias;"
      ]
    },
    {
      "cell_type": "code",
      "metadata": {
        "id": "MjprGuEgH_Y9"
      },
      "source": [
        "#retorna o valor mais votado pelas multiplas arvores de decisao\n",
        "#data --> dataframe de entrada\n",
        "#r --> numero de arvores no ensemble\n",
        "#feature_list --> lista dos atributos preditivos\n",
        "#feature_values --> dicionario com aa relação de atributos preditivos e seus possiveis valores {atributo : [valores], ...}\n",
        "#target_attribute --> \n",
        "def majority_vote(data, r, feature_list, feature_values, instance, target_attribute):\n",
        "  decision_trees = ensemble_decision_trees(data, r, feature_list, feature_values, target_attribute)\n",
        "  classification_results = []\n",
        "  for decision_tree in decision_trees:\n",
        "    classification_results.append(classify_instance(instance, decision_tree))\n",
        "  return max(set(classification_results), key=classification_results.count)\n"
      ],
      "execution_count": null,
      "outputs": []
    },
    {
      "cell_type": "markdown",
      "metadata": {
        "id": "CI7KzNbY7Eq-"
      },
      "source": [
        "## 6. A técnica de validação cruzada (cross-validation) estratificada, para avaliar poder de generalização do modelo e a variação de desempenho de acordo com diferentes valores para os parâmetros do algoritmo (ex., número de árvores no ensemble)."
      ]
    },
    {
      "cell_type": "code",
      "metadata": {
        "id": "UtMpW6PzOe6i"
      },
      "source": [
        "#calcula a acurácia das prediçẽos\n",
        "#predicted_outcomes --> lista de prediçoes\n",
        "#test_outcomes --> lista de valores de teste\n",
        "#RETORNA --> valor de acurácia\n",
        "def calculate_accuracy(predicted_outcomes, test_outcomes):\n",
        "    number_of_rows = len(predicted_outcomes) ## numero de instancias \n",
        "    number_of_errors = number_of_rows - (np.array(predicted_outcomes) == np.array(test_outcomes)).sum() ## numero de instancias preditas erradas\n",
        "    accuracy = 1 - (number_of_errors/number_of_rows) ## 1 - %err\n",
        "    return accuracy\n",
        "\n",
        "#divide o dataframe em folds estratificados\n",
        "#dataframe --> dataframe\n",
        "#number_of_folds --> numero de folds\n",
        "#RETORNA --> lista de folds estratificados\n",
        "def build_stratified_folds(dataframe, number_of_folds):\n",
        "    folds = [] \n",
        "    for i in range(number_of_folds):   ## Inicializa os folds vazios.\n",
        "        folds.append(pd.DataFrame())\n",
        "\n",
        "    groups_by_values = dataframe.groupby(dataframe.target)   ## separa o dataframe em sub-dataframes para cada valor válido da coluna target.\n",
        "    target_possible_values = dataframe.target.unique()       ## pega a lista de todos valores existentes para a coluna target\n",
        "\n",
        "    for value in target_possible_values:\n",
        "        group_by_value = groups_by_values.get_group(value)  ## Pega o dataframe daquele valor em especifico\n",
        "        folds_by_value = np.array_split(group_by_value, number_of_folds) ## separa o dataframe do valor em dataframes menores para colocar 1 em cada fold (assim todos os folds vao ter o mesmo numero de linhas com determinado valor para coluna target\n",
        "        for i in range(number_of_folds):\n",
        "            folds[i] = folds[i].append(folds_by_value[i])\n",
        "\n",
        "    return folds\n",
        "\n",
        "# realiza o cross validation e retorna uma tabela com o número de árvores, e a acurácia em cada fold de teste\n",
        "#n_trees --> numero de arvores no ensemble\n",
        "#n_folds --> numero de folds para a validacao cruzada\n",
        "#features --> lista de atributos preditivos\n",
        "#target --> atributo alvo\n",
        "#dataset --> dataframe\n",
        "#numerical_features --> lista dos atributos numericos (os valores nestes atributos devem ser floats)\n",
        "#RETORNA --> uma linha de dataframe contendo o número de arvores e os valores de acuracia em cada fold de teste\n",
        "def cross_validation(n_trees, n_folds, features, target, dataset, numerical_features):\n",
        "  dataframe = dataset.copy()\n",
        "  ##dividir todos os dados em n_folds estratificados\n",
        "  stratified_folds = build_stratified_folds(dataframe, n_folds)\n",
        "  ##utiliza cada (data - n_fold) como entrada para o algoritmo de florestas aleaorias (metodo majority_vote)\n",
        "  evaluation = pd.DataFrame()\n",
        "  evaluation['Trees'] = [n_trees]\n",
        "  for fold in range(n_folds):\n",
        "    test_fold = stratified_folds[fold] ## seleciona o fold de teste\n",
        "    training_folds = stratified_folds[:fold] + stratified_folds[fold+1:]\n",
        "    merged_training_folds = pd.concat(training_folds) ## concatena os folds de treinamento\n",
        "    merged_training_folds = numerical_encoder(merged_training_folds, numerical_features)\n",
        "    predict_test_instances = []\n",
        "    for i in range(len(test_fold)): ## prediz linha-a-linha do dataset de teste e salva numa tabela de instancias preditas para comparacao posterior com o gabarito do dataset de teste\n",
        "        row = test_fold[i:i+1].copy()\n",
        "        row.target = majority_vote(merged_training_folds.reset_index(drop=True), n_trees, features, predictive_feature_values(merged_training_folds[features]),row, target_attribute=target)\n",
        "        predict_test_instances.append(row)    \n",
        "    evaluation['Fold '+str(fold+1)] = [(calculate_accuracy([int(instances[target]) for instances in predict_test_instances], list(test_fold.target)))]\n",
        "  evaluation = evaluation.set_index('Trees')\n",
        "  return evaluation\n",
        "  "
      ],
      "execution_count": null,
      "outputs": []
    },
    {
      "cell_type": "markdown",
      "metadata": {
        "id": "PwaQ5Uy07LXB"
      },
      "source": [
        "## 7. Avaliação do impacto do número de árvores no desempenho do ensemble.\n",
        "\n",
        "\n"
      ]
    },
    {
      "cell_type": "code",
      "metadata": {
        "id": "850Ckqk9rs5-"
      },
      "source": [
        "#plota o gráfico e tabela relacionando o número de arvores e a acuraria\n",
        "#data --> dataframe\n",
        "#features --> lista de atributos preditivos\n",
        "#target --> atributo alvo\n",
        "#n_trees --> lista do numero de arvores\n",
        "#n_fold --> numero de folds\n",
        "#numerical_features --> lista de attributos preditivos numericos\n",
        "#RETORNA --> Dataframe informando a acurácia em cada um folds de teste para cada número de árvores, também a média e desvio padrão destes.\n",
        "def tree_number_evaluation(data, features, target, n_trees, n_fold, numerical_features):\n",
        "  evaluation = pd.DataFrame()\n",
        "  for trees in n_trees:\n",
        "    evaluation = pd.concat([evaluation, cross_validation(n_trees=trees, n_folds=n_fold, features=features, target=target, dataset=data, numerical_features=numerical_features)])\n",
        "    #display(evaluation)\n",
        "  evaluation = evaluation.merge(evaluation.apply(pd.Series.describe, axis=1)[['mean','std']], left_index=True, right_index=True)\n",
        "  display(evaluation)\n",
        "  tree_number = list(evaluation.index)\n",
        "  values = list(evaluation['mean'])\n",
        "      \n",
        "  fig = plt.figure(figsize = (10, 5)) \n",
        "\n",
        "  plt.bar(tree_number, values, color ='maroon',  \n",
        "            width = 0.4) \n",
        "      \n",
        "  plt.xlabel(\"Número de árvores\") \n",
        "  plt.ylabel(\"Acurácia\") \n",
        "  plt.title(\"Acurácia média por número de árvores no ensemble\") \n",
        "  plt.show()\n",
        "  return evaluation\n",
        "\n",
        "\n",
        "\n",
        "### OBS: DEMORA...."
      ],
      "execution_count": null,
      "outputs": []
    },
    {
      "cell_type": "code",
      "metadata": {
        "id": "EQRKhgfMJ4CY",
        "colab": {
          "base_uri": "https://localhost:8080/",
          "height": 555
        },
        "outputId": "4637ab69-278f-4b97-ad19-660b8c97f06c"
      },
      "source": [
        "n_trees = [1,3,5,10]\n",
        "###OBS: valores numericos devem ser do tipo float64\n",
        "wine_recognition = wine_recognition[wine_recognition.columns].astype(float)\n",
        "display('[*] Wine Data Set [*]')\n",
        "test_eval = tree_number_evaluation(data=wine_recognition, features=wine_recognition_predictive_attributes, target=target_attribute, n_trees=n_trees, n_fold=10, numerical_features=wine_recognition_predictive_attributes)"
      ],
      "execution_count": null,
      "outputs": [
        {
          "output_type": "display_data",
          "data": {
            "application/vnd.google.colaboratory.intrinsic+json": {
              "type": "string"
            },
            "text/plain": [
              "'[*] Wine Data Set [*]'"
            ]
          },
          "metadata": {
            "tags": []
          }
        },
        {
          "output_type": "display_data",
          "data": {
            "text/html": [
              "<div>\n",
              "<style scoped>\n",
              "    .dataframe tbody tr th:only-of-type {\n",
              "        vertical-align: middle;\n",
              "    }\n",
              "\n",
              "    .dataframe tbody tr th {\n",
              "        vertical-align: top;\n",
              "    }\n",
              "\n",
              "    .dataframe thead th {\n",
              "        text-align: right;\n",
              "    }\n",
              "</style>\n",
              "<table border=\"1\" class=\"dataframe\">\n",
              "  <thead>\n",
              "    <tr style=\"text-align: right;\">\n",
              "      <th></th>\n",
              "      <th>Fold 1</th>\n",
              "      <th>Fold 2</th>\n",
              "      <th>Fold 3</th>\n",
              "      <th>Fold 4</th>\n",
              "      <th>Fold 5</th>\n",
              "      <th>Fold 6</th>\n",
              "      <th>Fold 7</th>\n",
              "      <th>Fold 8</th>\n",
              "      <th>Fold 9</th>\n",
              "      <th>Fold 10</th>\n",
              "      <th>mean</th>\n",
              "      <th>std</th>\n",
              "    </tr>\n",
              "    <tr>\n",
              "      <th>Trees</th>\n",
              "      <th></th>\n",
              "      <th></th>\n",
              "      <th></th>\n",
              "      <th></th>\n",
              "      <th></th>\n",
              "      <th></th>\n",
              "      <th></th>\n",
              "      <th></th>\n",
              "      <th></th>\n",
              "      <th></th>\n",
              "      <th></th>\n",
              "      <th></th>\n",
              "    </tr>\n",
              "  </thead>\n",
              "  <tbody>\n",
              "    <tr>\n",
              "      <th>1</th>\n",
              "      <td>0.894737</td>\n",
              "      <td>0.722222</td>\n",
              "      <td>0.777778</td>\n",
              "      <td>0.722222</td>\n",
              "      <td>0.944444</td>\n",
              "      <td>0.944444</td>\n",
              "      <td>1.000000</td>\n",
              "      <td>0.888889</td>\n",
              "      <td>0.823529</td>\n",
              "      <td>1.0000</td>\n",
              "      <td>0.871827</td>\n",
              "      <td>0.105494</td>\n",
              "    </tr>\n",
              "    <tr>\n",
              "      <th>3</th>\n",
              "      <td>0.736842</td>\n",
              "      <td>0.722222</td>\n",
              "      <td>0.888889</td>\n",
              "      <td>0.777778</td>\n",
              "      <td>0.944444</td>\n",
              "      <td>0.833333</td>\n",
              "      <td>0.944444</td>\n",
              "      <td>0.944444</td>\n",
              "      <td>1.000000</td>\n",
              "      <td>0.9375</td>\n",
              "      <td>0.872990</td>\n",
              "      <td>0.098752</td>\n",
              "    </tr>\n",
              "    <tr>\n",
              "      <th>5</th>\n",
              "      <td>0.789474</td>\n",
              "      <td>0.777778</td>\n",
              "      <td>0.944444</td>\n",
              "      <td>0.888889</td>\n",
              "      <td>1.000000</td>\n",
              "      <td>0.888889</td>\n",
              "      <td>1.000000</td>\n",
              "      <td>0.944444</td>\n",
              "      <td>0.941176</td>\n",
              "      <td>0.8750</td>\n",
              "      <td>0.905009</td>\n",
              "      <td>0.077044</td>\n",
              "    </tr>\n",
              "    <tr>\n",
              "      <th>10</th>\n",
              "      <td>0.789474</td>\n",
              "      <td>0.666667</td>\n",
              "      <td>0.888889</td>\n",
              "      <td>0.833333</td>\n",
              "      <td>1.000000</td>\n",
              "      <td>0.944444</td>\n",
              "      <td>1.000000</td>\n",
              "      <td>0.888889</td>\n",
              "      <td>1.000000</td>\n",
              "      <td>0.8750</td>\n",
              "      <td>0.888670</td>\n",
              "      <td>0.106806</td>\n",
              "    </tr>\n",
              "  </tbody>\n",
              "</table>\n",
              "</div>"
            ],
            "text/plain": [
              "         Fold 1    Fold 2    Fold 3  ...  Fold 10      mean       std\n",
              "Trees                                ...                             \n",
              "1      0.894737  0.722222  0.777778  ...   1.0000  0.871827  0.105494\n",
              "3      0.736842  0.722222  0.888889  ...   0.9375  0.872990  0.098752\n",
              "5      0.789474  0.777778  0.944444  ...   0.8750  0.905009  0.077044\n",
              "10     0.789474  0.666667  0.888889  ...   0.8750  0.888670  0.106806\n",
              "\n",
              "[4 rows x 12 columns]"
            ]
          },
          "metadata": {
            "tags": []
          }
        },
        {
          "output_type": "display_data",
          "data": {
            "image/png": "[encoded data removed]",
            "text/plain": [
              "<Figure size 720x360 with 1 Axes>"
            ]
          },
          "metadata": {
            "tags": [],
            "needs_background": "light"
          }
        }
      ]
    },
    {
      "cell_type": "code",
      "metadata": {
        "id": "bRrRBjcBLPL_",
        "colab": {
          "base_uri": "https://localhost:8080/",
          "height": 555
        },
        "outputId": "659ef427-5393-4ad5-f9d1-4eecb1939b24"
      },
      "source": [
        "display('[*] 1984 United States Congressional Voting [*]')\n",
        "house_votes_eval = tree_number_evaluation(data=house_votes, features=house_votes_predictive_attributes, target=target_attribute, n_trees=n_trees, n_fold=10, numerical_features=[])"
      ],
      "execution_count": null,
      "outputs": [
        {
          "output_type": "display_data",
          "data": {
            "application/vnd.google.colaboratory.intrinsic+json": {
              "type": "string"
            },
            "text/plain": [
              "'[*] 1984 United States Congressional Voting [*]'"
            ]
          },
          "metadata": {
            "tags": []
          }
        },
        {
          "output_type": "display_data",
          "data": {
            "text/html": [
              "<div>\n",
              "<style scoped>\n",
              "    .dataframe tbody tr th:only-of-type {\n",
              "        vertical-align: middle;\n",
              "    }\n",
              "\n",
              "    .dataframe tbody tr th {\n",
              "        vertical-align: top;\n",
              "    }\n",
              "\n",
              "    .dataframe thead th {\n",
              "        text-align: right;\n",
              "    }\n",
              "</style>\n",
              "<table border=\"1\" class=\"dataframe\">\n",
              "  <thead>\n",
              "    <tr style=\"text-align: right;\">\n",
              "      <th></th>\n",
              "      <th>Fold 1</th>\n",
              "      <th>Fold 2</th>\n",
              "      <th>Fold 3</th>\n",
              "      <th>Fold 4</th>\n",
              "      <th>Fold 5</th>\n",
              "      <th>Fold 6</th>\n",
              "      <th>Fold 7</th>\n",
              "      <th>Fold 8</th>\n",
              "      <th>Fold 9</th>\n",
              "      <th>Fold 10</th>\n",
              "      <th>mean</th>\n",
              "      <th>std</th>\n",
              "    </tr>\n",
              "    <tr>\n",
              "      <th>Trees</th>\n",
              "      <th></th>\n",
              "      <th></th>\n",
              "      <th></th>\n",
              "      <th></th>\n",
              "      <th></th>\n",
              "      <th></th>\n",
              "      <th></th>\n",
              "      <th></th>\n",
              "      <th></th>\n",
              "      <th></th>\n",
              "      <th></th>\n",
              "      <th></th>\n",
              "    </tr>\n",
              "  </thead>\n",
              "  <tbody>\n",
              "    <tr>\n",
              "      <th>1</th>\n",
              "      <td>1.000000</td>\n",
              "      <td>0.840909</td>\n",
              "      <td>0.931818</td>\n",
              "      <td>0.795455</td>\n",
              "      <td>0.954545</td>\n",
              "      <td>0.909091</td>\n",
              "      <td>0.954545</td>\n",
              "      <td>0.860465</td>\n",
              "      <td>0.904762</td>\n",
              "      <td>0.904762</td>\n",
              "      <td>0.905635</td>\n",
              "      <td>0.060330</td>\n",
              "    </tr>\n",
              "    <tr>\n",
              "      <th>3</th>\n",
              "      <td>0.954545</td>\n",
              "      <td>0.931818</td>\n",
              "      <td>0.954545</td>\n",
              "      <td>0.818182</td>\n",
              "      <td>0.977273</td>\n",
              "      <td>0.931818</td>\n",
              "      <td>0.977273</td>\n",
              "      <td>0.883721</td>\n",
              "      <td>0.833333</td>\n",
              "      <td>0.904762</td>\n",
              "      <td>0.916727</td>\n",
              "      <td>0.056318</td>\n",
              "    </tr>\n",
              "    <tr>\n",
              "      <th>5</th>\n",
              "      <td>0.977273</td>\n",
              "      <td>0.931818</td>\n",
              "      <td>0.931818</td>\n",
              "      <td>0.931818</td>\n",
              "      <td>0.977273</td>\n",
              "      <td>0.909091</td>\n",
              "      <td>0.954545</td>\n",
              "      <td>1.000000</td>\n",
              "      <td>0.785714</td>\n",
              "      <td>0.880952</td>\n",
              "      <td>0.928030</td>\n",
              "      <td>0.061105</td>\n",
              "    </tr>\n",
              "    <tr>\n",
              "      <th>10</th>\n",
              "      <td>0.977273</td>\n",
              "      <td>0.954545</td>\n",
              "      <td>0.886364</td>\n",
              "      <td>0.909091</td>\n",
              "      <td>0.977273</td>\n",
              "      <td>0.931818</td>\n",
              "      <td>0.977273</td>\n",
              "      <td>0.976744</td>\n",
              "      <td>0.809524</td>\n",
              "      <td>0.952381</td>\n",
              "      <td>0.935229</td>\n",
              "      <td>0.054343</td>\n",
              "    </tr>\n",
              "  </tbody>\n",
              "</table>\n",
              "</div>"
            ],
            "text/plain": [
              "         Fold 1    Fold 2    Fold 3  ...   Fold 10      mean       std\n",
              "Trees                                ...                              \n",
              "1      1.000000  0.840909  0.931818  ...  0.904762  0.905635  0.060330\n",
              "3      0.954545  0.931818  0.954545  ...  0.904762  0.916727  0.056318\n",
              "5      0.977273  0.931818  0.931818  ...  0.880952  0.928030  0.061105\n",
              "10     0.977273  0.954545  0.886364  ...  0.952381  0.935229  0.054343\n",
              "\n",
              "[4 rows x 12 columns]"
            ]
          },
          "metadata": {
            "tags": []
          }
        },
        {
          "output_type": "display_data",
          "data": {
            "image/png": "[encoded data removed]",
            "text/plain": [
              "<Figure size 720x360 with 1 Axes>"
            ]
          },
          "metadata": {
            "tags": [],
            "needs_background": "light"
          }
        }
      ]
    }
  ]
}